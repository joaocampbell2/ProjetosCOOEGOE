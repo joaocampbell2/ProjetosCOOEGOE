{
 "cells": [
  {
   "cell_type": "code",
   "execution_count": 30,
   "metadata": {},
   "outputs": [],
   "source": [
    "import time\n",
    "from time import sleep\n",
    "import traceback\n",
    "from selenium import webdriver\n",
    "from selenium.webdriver.common.by import By\n",
    "from selenium.webdriver.support.ui import Select\n",
    "from selenium.webdriver.common.keys import  Keys\n",
    "from selenium.webdriver.support.ui import WebDriverWait\n",
    "from selenium.webdriver.support import expected_conditions as EC\n",
    "import pandas as pd\n",
    "import os\n",
    "import re\n",
    "from openpyxl import load_workbook\n",
    "from openpyxl.styles import PatternFill\n",
    "from openpyxl.formatting.rule import CellIsRule\n",
    "import pyautogui\n",
    "\n",
    "\n",
    "\n",
    "def login(navegador):\n",
    "    navegador.get(\"https://sei.rj.gov.br/sip/login.php?sigla_orgao_sistema=ERJ&sigla_sistema=SEI\")\n",
    "\n",
    "    usuario = navegador.find_element(By.XPATH, value='//*[@id=\"txtUsuario\"]')\n",
    "    #usuario.send_keys(os.environ['login_sefaz'])\n",
    "    usuario.send_keys(\"jcampbell1\")\n",
    "\n",
    "\n",
    "    senha = navegador.find_element(By.XPATH, value='//*[@id=\"pwdSenha\"]')\n",
    "    #senha.send_keys(os.environ['senha_sefaz'])\n",
    "    senha.send_keys(\"V@mpirismo2\")\n",
    "\n",
    "\n",
    "    exercicio = Select(navegador.find_element(By.XPATH, value='//*[@id=\"selOrgao\"]'))\n",
    "    exercicio.select_by_visible_text('SEFAZ')\n",
    "\n",
    "    btnLogin = navegador.find_element(By.XPATH, value='//*[@id=\"Acessar\"]')\n",
    "    btnLogin.click()\n",
    "\n",
    "    time.sleep(5)\n",
    "\n",
    "    navegador.maximize_window()\n",
    "\n",
    "    navegador.find_element(By.TAG_NAME, \"body\").send_keys(Keys.ESCAPE)\n",
    "    \n",
    "    \n",
    "options = webdriver.FirefoxOptions()\n",
    "\n",
    "\n",
    "options.set_preference(\"browser.download.manager.showWhenStarting\", False)\n",
    "options.set_preference(\"browser.tabs.closeWindowWithLastTab\", False)\n",
    "options.set_preference(\"browser.helperApps.neverAsk.saveToDisk\", \"application/pdf\")\n",
    "options.set_preference(\"browser.download.folderList\", 2)\n",
    "options.set_preference(\"browser.download.dir\", r\"C:\\Users\\\\\"+os.getlogin()+r\"\\Downloads\")\n",
    "\n",
    "\n",
    "navegador = webdriver.Firefox(options=options)\n",
    "login(navegador)\n",
    "\n",
    "processo = \"SEI-040002/002623/2024\"\n",
    "\n",
    "barraPesquisa = navegador.find_element(By.ID, \"txtPesquisaRapida\")\n",
    "\n",
    "barraPesquisa.send_keys(processo)\n",
    "barraPesquisa.send_keys(Keys.ENTER)\n",
    "\n",
    "\n"
   ]
  },
  {
   "cell_type": "code",
   "execution_count": 133,
   "metadata": {},
   "outputs": [],
   "source": [
    "x = [\"PGOV0822P\",\"PGOV0832P\",\"TGRJ0801P\",\"TGRJ0802P\",\"TGRJ0807P\", \"TGRJ0808P\"]\n",
    "navegador.switch_to.window(navegador.window_handles[0])\n",
    "\n",
    "navegador.switch_to.default_content()"
   ]
  },
  {
   "cell_type": "code",
   "execution_count": 132,
   "metadata": {},
   "outputs": [],
   "source": [
    "meses = [\"Janeiro\", \"Fevereiro\", \"Março\", \"Abril\", \"Maio\", \"Junho\", \"Julho\", \"Agosto\", \"Setembro\", \"Outubro\", \"Novembro\", \"Dezembro\"]\n",
    "\n",
    "from datetime import date\n",
    "from glob import glob\n",
    "from shutil import move\n",
    "\n",
    "def alterarNomeArquivo():\n",
    "    arquivo = \"\"\n",
    "    while not os.path.isfile(arquivo):\n",
    "        file_list = glob(r\"C:\\Users\\\\\"+os.getlogin()+r\"\\Downloads\\*.pdf\")\n",
    "        for file in file_list:\n",
    "            if (int(time.time()) - int(os.stat(file).st_mtime) < 3):\n",
    "                arquivo = file\n",
    "                time.sleep(1)\n",
    "                break\n",
    "    \n",
    "    for processo in x:\n",
    "        if processo in arquivo:\n",
    "            nome = processo + \"_\" + meses[date.today() - 1]\n",
    "            newFile = r\"C:\\Users\\\\\"+os.getlogin()+r\"\\Downloads\\\\\" + nome + \".pdf\"\n",
    "\n",
    "    move(arquivo, newFile)\n",
    "    os.remove(arquivo)"
   ]
  },
  {
   "cell_type": "code",
   "execution_count": 5,
   "metadata": {},
   "outputs": [
    {
     "ename": "NameError",
     "evalue": "name 'alterarNomeArquivo' is not defined",
     "output_type": "error",
     "traceback": [
      "\u001b[1;31m---------------------------------------------------------------------------\u001b[0m",
      "\u001b[1;31mNameError\u001b[0m                                 Traceback (most recent call last)",
      "Cell \u001b[1;32mIn[5], line 24\u001b[0m\n\u001b[0;32m     21\u001b[0m time\u001b[38;5;241m.\u001b[39msleep(\u001b[38;5;241m2\u001b[39m)\n\u001b[0;32m     23\u001b[0m pyautogui\u001b[38;5;241m.\u001b[39mpress(\u001b[38;5;124m\"\u001b[39m\u001b[38;5;124menter\u001b[39m\u001b[38;5;124m\"\u001b[39m)\n\u001b[1;32m---> 24\u001b[0m \u001b[43malterarNomeArquivo\u001b[49m()\n\u001b[0;32m     25\u001b[0m navegador\u001b[38;5;241m.\u001b[39mswitch_to\u001b[38;5;241m.\u001b[39mdefault_content()\n\u001b[0;32m     26\u001b[0m navegador\u001b[38;5;241m.\u001b[39mswitch_to\u001b[38;5;241m.\u001b[39mframe(arvore)\n",
      "\u001b[1;31mNameError\u001b[0m: name 'alterarNomeArquivo' is not defined"
     ]
    }
   ],
   "source": [
    "\n",
    "arvore = navegador.find_element(By.ID, \"ifrArvore\")\n",
    "visualizacao = navegador.find_element(By.ID, \"ifrVisualizacao\")\n",
    "navegador.switch_to.frame(arvore)\n",
    "\n",
    "listaDocs = navegador.find_element(By.ID, \"divArvore\")\n",
    "docs = listaDocs.find_elements(By.TAG_NAME, \"a\")\n",
    "\n",
    "for doc in docs:\n",
    "    if \"FOLHA\" in doc.text.upper(): \n",
    "        doc.click()\n",
    "        navegador.switch_to.default_content()\n",
    "        navegador.switch_to.frame(visualizacao)\n",
    "        navegador.switch_to.frame(navegador.find_element(By.ID, \"ifrArvoreHtml\"))\n",
    "        time.sleep(0.3)\n",
    "        \n",
    "        \n",
    "        navegador.find_element(By.XPATH, '//button[@id =\"secondaryToolbarToggle\" ]').click()\n",
    "        time.sleep(0.3)\n",
    "\n",
    "        navegador.find_element(By.XPATH, '//button[@id =\"secondaryDownload\"]').click()\n",
    "        time.sleep(2)\n",
    "\n",
    "        pyautogui.press(\"enter\")\n",
    "        alterarNomeArquivo()\n",
    "        navegador.switch_to.default_content()\n",
    "        navegador.switch_to.frame(arvore)\n",
    "    \n"
   ]
  },
  {
   "cell_type": "code",
   "execution_count": 23,
   "metadata": {},
   "outputs": [
    {
     "name": "stdout",
     "output_type": "stream",
     "text": [
      "{}\n",
      "{'browser.download.manager.showWhenStarting': False}\n"
     ]
    }
   ],
   "source": [
    "prof = webdriver.FirefoxOptions()\n",
    "print(prof.preferences)\n",
    "\n",
    "prof.set_preference(\"browser.windows.loadOnNewWindow\", 1)\n",
    "prof.set_preference(\"browser.tabs.closeWindowWithLastTab\", False)\n",
    "\n",
    "print(prof.preferences)\n",
    "\n",
    "nav = webdriver.Firefox(options = prof)"
   ]
  }
 ],
 "metadata": {
  "kernelspec": {
   "display_name": "base",
   "language": "python",
   "name": "python3"
  },
  "language_info": {
   "codemirror_mode": {
    "name": "ipython",
    "version": 3
   },
   "file_extension": ".py",
   "mimetype": "text/x-python",
   "name": "python",
   "nbconvert_exporter": "python",
   "pygments_lexer": "ipython3",
   "version": "3.11.8"
  }
 },
 "nbformat": 4,
 "nbformat_minor": 2
}
