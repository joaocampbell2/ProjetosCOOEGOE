{
 "cells": [
  {
   "cell_type": "markdown",
   "metadata": {},
   "source": [
    "IMPORTAR BIBLIOTECAS"
   ]
  },
  {
   "cell_type": "code",
   "execution_count": 4,
   "metadata": {},
   "outputs": [],
   "source": [
    "import time\n",
    "from time import sleep\n",
    "import traceback\n",
    "from selenium import webdriver\n",
    "from selenium.webdriver.common.by import By\n",
    "from selenium.webdriver.support.ui import Select\n",
    "from selenium.webdriver.common.keys import  Keys\n",
    "from selenium.webdriver.support.ui import WebDriverWait\n",
    "from selenium.webdriver.support import expected_conditions as EC\n",
    "import os\n",
    "import re\n",
    "from openpyxl import load_workbook\n",
    "from datetime import date, datetime\n",
    "from glob import glob\n",
    "from shutil import move\n",
    "import tabula\n",
    "from PyPDF2 import PdfReader\n",
    "from marinetteSEFAZ import loginSEI, salvarPlanilha, obterProcessosDeBloco, procurarArquivos, buscarInformacaoEmDocumento,buscarProcessoEmBloco,escreverAcompanhamentoEspecial\n"
   ]
  },
  {
   "cell_type": "markdown",
   "metadata": {},
   "source": [
    "LOGIN SEI"
   ]
  },
  {
   "cell_type": "code",
   "execution_count": 8,
   "metadata": {},
   "outputs": [],
   "source": [
    "nav = webdriver.Firefox()\n",
    "coordenacao = \"SEFAZ/COOEGOE\"\n",
    "loginSEI(nav,os.environ[\"login_sefaz\"], os.environ[\"senha_sefaz\"],coordenacao)"
   ]
  },
  {
   "cell_type": "markdown",
   "metadata": {},
   "source": [
    "PESQUISAR PROCESSO X"
   ]
  },
  {
   "cell_type": "code",
   "execution_count": 12,
   "metadata": {},
   "outputs": [],
   "source": [
    "processo = \"SEI-040009/000899/2024\"\n",
    "\n",
    "nav.switch_to.default_content()\n",
    "barraPesquisa = nav.find_element(By.ID, \"txtPesquisaRapida\")\n",
    "barraPesquisa.send_keys(processo)\n",
    "barraPesquisa.send_keys(Keys.ENTER)\n"
   ]
  },
  {
   "cell_type": "markdown",
   "metadata": {},
   "source": [
    "PRINTAR BODY DOCUMENTO"
   ]
  },
  {
   "cell_type": "code",
   "execution_count": 13,
   "metadata": {},
   "outputs": [
    {
     "name": "stdout",
     "output_type": "stream",
     "text": [
      "Governo do Estado do Rio de Janeiro\n",
      "Secretaria de Estado de Fazenda\n",
      "Subsecretaria do Tesouro do Estado do Rio de Janeiro\n",
      "À COOEGOE,\n",
      "  Processo: 0006838-18.2021.8.19.0066\n",
      "Beneficiário: FUNPEN / CNPJ: 00.394.494/0008-02 \n",
      "Forma de Pagamento: GRU (82751631)\n",
      "  Senhor Coordenador,            \n",
      "Tendo em vista a determinação judicial (77452062), bem como a confirmação de entrada em receita por meio dos Documentos de Arrecadação acostados aos autos (77453752), AUTORIZO a emissão da competente Programação de Desembolso (PD) Extraorçamentária no valor de R$ 153,00 (cento e cinquenta e três reais) para pagamento, com fulcro no Art. 8º da Resolução SEFAZ n° 572 de 26/10/2023, em conformidade ao artigo 93 da Lei nº 287, de 04/12/1979 e alterações posteriores.\n",
      "AUTORIZO, também, a emissão da Nota de Empenho, Nota de Liquidação e Programação de Desembolso no valor de R$ 32,74 (trinta e dois reais e setenta e quatro centavos), relativo aos acréscimos legais,  calculados conforme cálculo anexo, por meio da Calculadora do Cidadão do Banco Central do Brasil (BACEN) disponível no endereço eletrônico https://www3.bcb.gov.br/CALCIDADAO/publico/exibirFormCorrecaoValores.do?method=exibirFormCorrecaoValores&aba=1, e com utilização do índice IPCA (IBGE), conforme entendimento firmado pela SUBJUR SEFAZ no bojo do processo SEI-040047/000196/2023, Documento SEI 51142759, autorizado pelas autoridades competentes da Subsecretaria do Tesouro e consolidado pelo Supremo Tribunal Federal na ADC nº. 58/DF.\n",
      "Após a juntada da comprovação do pagamento, solicito o retorno dos autos à COOAJUR para providências posteriores.\n",
      "Atenciosamente,\n",
      "    MARCOS BUARQUE MONTENEGRO\n",
      "Superintendente de Gestão das Obrigações\n",
      "Analista da Fazenda Estadual\n",
      "ID 5033379-8\n",
      "  Rio de Janeiro, 06 de setembro de 2024\n",
      "Documento assinado eletronicamente por Marcos Buarque Montenegro, Superintendente, em 13/09/2024, às 17:52, conforme horário oficial de Brasília, com fundamento nos art. 28º e 29º do Decreto nº 48.209, de 19 de setembro de 2022.\n",
      "A autenticidade deste documento pode ser conferida no site http://sei.rj.gov.br/sei/controlador_externo.php?acao=documento_conferir&id_orgao_acesso_externo=6, informando o código verificador 82751160 e o código CRC A6D0902F.\n",
      "\n",
      "Referência: Processo nº SEI-040009/000899/2024 SEI nº 82751160\n",
      "Av. Presidente Vargas, nº 670, - Bairro Centro, Rio de Janeiro/RJ, CEP 20071-001\n",
      "Telefone: - www.fazenda.rj.gov.br  \n",
      "Criado por ebarbosa, versão 3 por bhnascimento em 06/09/2024 20:42:17.\n"
     ]
    }
   ],
   "source": [
    "nav.switch_to.default_content()            \n",
    "WebDriverWait(nav,20).until(EC.frame_to_be_available_and_switch_to_it((By.ID, \"ifrVisualizacao\")))\n",
    "WebDriverWait(nav,20).until(EC.frame_to_be_available_and_switch_to_it((By.ID, \"ifrArvoreHtml\")))\n",
    "\n",
    "time.sleep(2)\n",
    "body = nav.find_element(By.XPATH, '//body').text\n",
    "\n",
    "print(body)"
   ]
  }
 ],
 "metadata": {
  "kernelspec": {
   "display_name": "Python 3",
   "language": "python",
   "name": "python3"
  },
  "language_info": {
   "codemirror_mode": {
    "name": "ipython",
    "version": 3
   },
   "file_extension": ".py",
   "mimetype": "text/x-python",
   "name": "python",
   "nbconvert_exporter": "python",
   "pygments_lexer": "ipython3",
   "version": "3.11.8"
  }
 },
 "nbformat": 4,
 "nbformat_minor": 2
}
