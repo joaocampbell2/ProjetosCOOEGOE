{
 "cells": [
  {
   "cell_type": "markdown",
   "metadata": {},
   "source": [
    "IMPORTAR BIBLIOTECAS"
   ]
  },
  {
   "cell_type": "code",
   "execution_count": 1,
   "metadata": {},
   "outputs": [],
   "source": [
    "import time\n",
    "from time import sleep\n",
    "import traceback\n",
    "from selenium import webdriver\n",
    "from selenium.webdriver.common.by import By\n",
    "from selenium.webdriver.support.ui import Select\n",
    "from selenium.webdriver.common.keys import  Keys\n",
    "from selenium.webdriver.support.ui import WebDriverWait\n",
    "from selenium.webdriver.support import expected_conditions as EC\n",
    "import os\n",
    "import re\n",
    "from openpyxl import load_workbook\n",
    "from datetime import date, datetime\n",
    "from glob import glob\n",
    "from shutil import move\n",
    "import tabula\n",
    "from PyPDF2 import PdfReader\n",
    "from marinetteSEFAZ import loginSEI, salvarPlanilha, obterProcessosDeBloco, procurarArquivos, buscarInformacaoEmDocumento,buscarProcessoEmBloco,escreverAcompanhamentoEspecial\n"
   ]
  },
  {
   "cell_type": "markdown",
   "metadata": {},
   "source": [
    "LOGIN SEI"
   ]
  },
  {
   "cell_type": "code",
   "execution_count": 2,
   "metadata": {},
   "outputs": [],
   "source": [
    "nav = webdriver.Firefox()\n",
    "coordenacao = \"SEFAZ/COOEGOE\"\n",
    "loginSEI(nav,os.environ[\"login_sefaz\"], os.environ[\"senha_sefaz\"],coordenacao)"
   ]
  },
  {
   "cell_type": "markdown",
   "metadata": {},
   "source": [
    "PESQUISAR PROCESSO X"
   ]
  },
  {
   "cell_type": "code",
   "execution_count": 15,
   "metadata": {},
   "outputs": [],
   "source": [
    "processo = \"SEI-140001/076893/2024\"\n",
    "\n",
    "nav.switch_to.default_content()\n",
    "barraPesquisa = nav.find_element(By.ID, \"txtPesquisaRapida\")\n",
    "barraPesquisa.send_keys(processo)\n",
    "barraPesquisa.send_keys(Keys.ENTER)\n"
   ]
  },
  {
   "cell_type": "markdown",
   "metadata": {},
   "source": [
    "PRINTAR BODY DOCUMENTO"
   ]
  },
  {
   "cell_type": "code",
   "execution_count": null,
   "metadata": {},
   "outputs": [],
   "source": [
    "nav.switch_to.default_content()            \n",
    "WebDriverWait(nav,20).until(EC.frame_to_be_available_and_switch_to_it((By.ID, \"ifrVisualizacao\")))\n",
    "WebDriverWait(nav,20).until(EC.frame_to_be_available_and_switch_to_it((By.ID, \"ifrArvoreHtml\")))\n",
    "\n",
    "time.sleep(2)\n",
    "body = nav.find_element(By.XPATH, '//body').text\n",
    "\n",
    "print(body)"
   ]
  },
  {
   "cell_type": "code",
   "execution_count": 16,
   "metadata": {},
   "outputs": [
    {
     "name": "stdout",
     "output_type": "stream",
     "text": [
      "SEI-040079/004614/2023\n"
     ]
    }
   ],
   "source": [
    "WebDriverWait(nav,20).until(EC.invisibility_of_element_located(((By.XPATH, \"//div[@class = 'sparkling-modal-close']\"))))\n",
    "WebDriverWait(nav,20).until(EC.presence_of_element_located(((By.XPATH, \"//tbody//tr\"))))\n",
    "processo = nav.find_element(By.XPATH, \"//tbody//tr//td[3]//a[text() = 'SEI-040079/004614/2023']\")\n",
    "print(processo.text)\n",
    "\n"
   ]
  },
  {
   "cell_type": "code",
   "execution_count": 2,
   "metadata": {},
   "outputs": [],
   "source": [
    "nav = webdriver.Firefox()"
   ]
  },
  {
   "cell_type": "code",
   "execution_count": 19,
   "metadata": {},
   "outputs": [],
   "source": [
    "nav.find_element(By.ID,\"accountId\").send_keys(\"14525959762\")\n",
    "nav.find_element(By.ID,\"accountId\").send_keys(Keys.ENTER)\n",
    "\n"
   ]
  },
  {
   "cell_type": "code",
   "execution_count": null,
   "metadata": {},
   "outputs": [],
   "source": []
  }
 ],
 "metadata": {
  "kernelspec": {
   "display_name": "Python 3",
   "language": "python",
   "name": "python3"
  },
  "language_info": {
   "codemirror_mode": {
    "name": "ipython",
    "version": 3
   },
   "file_extension": ".py",
   "mimetype": "text/x-python",
   "name": "python",
   "nbconvert_exporter": "python",
   "pygments_lexer": "ipython3",
   "version": "3.11.8"
  }
 },
 "nbformat": 4,
 "nbformat_minor": 2
}
