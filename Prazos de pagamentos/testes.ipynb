{
 "cells": [
  {
   "cell_type": "code",
   "execution_count": 9,
   "metadata": {},
   "outputs": [
    {
     "name": "stdout",
     "output_type": "stream",
     "text": [
      "a    10\n",
      "b    20\n",
      "c    30\n",
      "d    40\n",
      "e    50\n",
      "Name: 0, dtype: int64\n"
     ]
    },
    {
     "data": {
      "text/plain": [
       "2"
      ]
     },
     "execution_count": 9,
     "metadata": {},
     "output_type": "execute_result"
    }
   ],
   "source": [
    "from openpyxl import load_workbook\n",
    "import pandas as pd\n",
    "planilha = load_workbook(r\"C:\\Users\\jcampbell1\\Downloads\\Planilha Gerencial - Marinette.xlsx\")\n",
    "prazos = planilha[\"PRAZOS\"]\n",
    "\n",
    "\n",
    "dados = [10, 20, 30, 40, 50]\n",
    "indices = ['a', 'b', 'c', 'd', 'e']\n",
    "\n",
    "# Criando um DataFrame com uma única linha\n",
    "df = pd.DataFrame([dados], columns=indices)\n",
    "\n",
    "# Convertendo a linha do DataFrame em uma Series horizontal\n",
    "serie = df.iloc[0]\n",
    "print(serie)\n",
    "prazos.append(serie.to_dict())\n",
    "\n",
    "#planilha.save(r\"C:\\Users\\jcampbell1\\Downloads\\Planilha Gerencial - Marinette.xlsx\")\n",
    "\n",
    "prazos.max_row"
   ]
  }
 ],
 "metadata": {
  "kernelspec": {
   "display_name": "Python 3",
   "language": "python",
   "name": "python3"
  },
  "language_info": {
   "codemirror_mode": {
    "name": "ipython",
    "version": 3
   },
   "file_extension": ".py",
   "mimetype": "text/x-python",
   "name": "python",
   "nbconvert_exporter": "python",
   "pygments_lexer": "ipython3",
   "version": "3.11.8"
  }
 },
 "nbformat": 4,
 "nbformat_minor": 2
}
