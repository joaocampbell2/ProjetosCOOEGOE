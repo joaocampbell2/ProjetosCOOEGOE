{
 "cells": [
  {
   "cell_type": "code",
   "execution_count": 30,
   "metadata": {},
   "outputs": [],
   "source": [
    "import time\n",
    "from time import sleep\n",
    "import traceback\n",
    "from selenium import webdriver\n",
    "from selenium.webdriver.common.by import By\n",
    "from selenium.webdriver.support.ui import Select\n",
    "from selenium.webdriver.common.keys import  Keys\n",
    "from selenium.webdriver.support.ui import WebDriverWait\n",
    "from selenium.webdriver.support import expected_conditions as EC\n",
    "import pandas as pd\n",
    "from selenium.webdriver.common.action_chains import ActionChains\n",
    "import os\n",
    "import sys\n",
    "\n",
    "\n",
    "def login(navegador):\n",
    "    navegador.get(\"https://sei.rj.gov.br/sei/controlador.php?acao=procedimento_trabalhar&acao_origem=rel_bloco_protocolo_listar&acao_retorno=rel_bloco_protocolo_listar&id_procedimento=81745334&id_bloco=847496&infra_sistema=100000100&infra_unidade_atual=110000196&infra_hash=4fa73d8fa9f90607eadfa66760acc9ab5aee3147ef7e204d92847ab0f335cde5\")\n",
    "\n",
    "    usuario = navegador.find_element(By.XPATH, value='//*[@id=\"txtUsuario\"]')\n",
    "    usuario.send_keys(os.environ['login_sefaz'])\n",
    "\n",
    "    senha = navegador.find_element(By.XPATH, value='//*[@id=\"pwdSenha\"]')\n",
    "    senha.send_keys(os.environ['senha_sefaz'])\n",
    "\n",
    "    exercicio = Select(navegador.find_element(By.XPATH, value='//*[@id=\"selOrgao\"]'))\n",
    "    exercicio.select_by_visible_text('SEFAZ')\n",
    "\n",
    "    btnLogin = navegador.find_element(By.XPATH, value='//*[@id=\"Acessar\"]')\n",
    "    btnLogin.click()\n",
    "\n",
    "    \n",
    "    WebDriverWait(navegador,20).until(EC.presence_of_element_located((By.ID, \"divInfraBarraSistemaPadrao\" )))\n",
    "\n",
    "    \n",
    "\n",
    "    \n",
    "    navegador.maximize_window()\n",
    "\n",
    "    \n",
    "    \n",
    "    \n",
    "    navegador.find_element(By.TAG_NAME, \"body\").send_keys(Keys.ESCAPE)\n",
    "\n",
    "\n",
    "navegador = webdriver.Firefox()\n"
   ]
  },
  {
   "cell_type": "code",
   "execution_count": 31,
   "metadata": {},
   "outputs": [],
   "source": [
    "login(navegador)\n"
   ]
  },
  {
   "cell_type": "code",
   "execution_count": 8,
   "metadata": {},
   "outputs": [
    {
     "name": "stdout",
     "output_type": "stream",
     "text": [
      "Beneficiário: TJRJ / CNPJ: 28.538.734/0001-48\n",
      "Forma de Pagamento: GRERJ (76504393)\n"
     ]
    },
    {
     "data": {
      "text/plain": [
       "''"
      ]
     },
     "execution_count": 8,
     "metadata": {},
     "output_type": "execute_result"
    }
   ],
   "source": [
    "import re\n",
    "encontrarProcessos(navegador,\"863135\")\n",
    "#encontrarFormaDePagamento(navegador)\n",
    "#encontrarValidade(navegador)"
   ]
  },
  {
   "cell_type": "code",
   "execution_count": 1,
   "metadata": {},
   "outputs": [
    {
     "ename": "",
     "evalue": "",
     "output_type": "error",
     "traceback": [
      "\u001b[1;31mThe Kernel crashed while executing code in the current cell or a previous cell. \n",
      "\u001b[1;31mPlease review the code in the cell(s) to identify a possible cause of the failure. \n",
      "\u001b[1;31mClick <a href='https://aka.ms/vscodeJupyterKernelCrash'>here</a> for more info. \n",
      "\u001b[1;31mView Jupyter <a href='command:jupyter.viewOutput'>log</a> for further details."
     ]
    }
   ],
   "source": [
    "import pandas as pd\n",
    "from openpyxl import load_workbook\n",
    "import traceback\n",
    "bloco = \"4\"\n",
    "wb = load_workbook(r\"C:\\Users\\jcampbell1\\OneDrive - SEFAZ-RJ\\CONTROLE GERENCIAL - PAGAMENTOS\\Planilha Gerencial - Marinette.xlsx\")\n",
    "\n",
    "if bloco not in wb.sheetnames:\n",
    "    wb.create_sheet(bloco,0)\n",
    "    wb.save(r\"C:\\Users\\jcampbell1\\OneDrive - SEFAZ-RJ\\CONTROLE GERENCIAL - PAGAMENTOS\\Planilha Gerencial - Marinette.xlsx\")\n",
    "\n",
    "df = pd.read_excel(r\"C:\\Users\\jcampbell1\\OneDrive - SEFAZ-RJ\\CONTROLE GERENCIAL - PAGAMENTOS\\Planilha Gerencial - Marinette.xlsx\", sheet_name=bloco)\n",
    "\n",
    "try:\n",
    "    print(df[\"PROCESSO\"].values)\n",
    "\n",
    "except:\n",
    "    df = pd.DataFrame(columns=[\"PROCESSO\", \"FORMA DE PAGAMENTO\", \"VALIDADE\",\"ACOMPANHAMENTO ESPECIAL\"], index=None)\n",
    "\n",
    "writer = pd.ExcelWriter(r\"C:\\Users\\jcampbell1\\OneDrive - SEFAZ-RJ\\CONTROLE GERENCIAL - PAGAMENTOS\\Planilha Gerencial - Marinette.xlsx\", engine='openpyxl', mode='a', if_sheet_exists='replace')\n",
    "\n",
    "df.to_excel(writer, sheet_name=bloco, index=False)\n",
    "\n",
    "writer.close()\n"
   ]
  },
  {
   "cell_type": "code",
   "execution_count": 3,
   "metadata": {},
   "outputs": [
    {
     "ename": "",
     "evalue": "",
     "output_type": "error",
     "traceback": [
      "\u001b[1;31mThe Kernel crashed while executing code in the current cell or a previous cell. \n",
      "\u001b[1;31mPlease review the code in the cell(s) to identify a possible cause of the failure. \n",
      "\u001b[1;31mClick <a href='https://aka.ms/vscodeJupyterKernelCrash'>here</a> for more info. \n",
      "\u001b[1;31mView Jupyter <a href='command:jupyter.viewOutput'>log</a> for further details."
     ]
    }
   ],
   "source": [
    "import pandas as pd\n",
    "from openpyxl import load_workbook\n",
    "from openpyxl.styles import PatternFill\n",
    "from openpyxl.formatting.rule import CellIsRule\n",
    "\n",
    "marinette = r\"C:\\Users\\jcampbell1\\OneDrive - SEFAZ-RJ\\CONTROLE GERENCIAL - PAGAMENTOS\\Planilha Gerencial - Marinette.xlsx\"\n",
    "bloco = \"869143\"\n",
    "df = pd.read_excel(marinette, sheet_name=bloco)\n",
    "\n",
    "\n",
    "writer = pd.ExcelWriter(marinette, engine='openpyxl', mode='a', if_sheet_exists='replace')\n",
    "df.to_excel(writer, sheet_name=bloco, index=False)\n",
    "writer.close()\n",
    "\n",
    "planilha = load_workbook(marinette)\n",
    "tabela = planilha[bloco]\n",
    "for linha in range(2,tabela.max_row + 1):\n",
    "    celula = tabela[f\"D{linha}\"]\n",
    "    celula.value = f'=C{linha}-TODAY()'\n",
    "\n",
    "\n",
    "\n",
    "prazo = f'D2:D{tabela.max_row}'\n",
    "\n",
    "\n",
    "red_fill = PatternFill(start_color=\"FFC7CE\", end_color=\"FFC7CE\", fill_type=\"solid\")\n",
    "green_fill = PatternFill(start_color=\"C6EFCE\", end_color=\"C6EFCE\", fill_type=\"solid\")\n",
    "yellow_fill = PatternFill(start_color=\"FFFFE0\", end_color=\"FFFFE0\", fill_type=\"solid\")\n",
    "\n",
    "    \n",
    "red_rule = CellIsRule(operator='lessThan', formula=['0'], stopIfTrue=True, fill=red_fill)\n",
    "    \n",
    "# Rule for cells with positive values (green)\n",
    "green_rule = CellIsRule(operator='greaterThan', formula=['15'], stopIfTrue=True, fill=green_fill)\n",
    "yellow_rule = CellIsRule(operator='lessThanOrEqual', formula=['15'], stopIfTrue=True, fill=yellow_fill)\n",
    "\n",
    "# Add rules to the worksheet\n",
    "tabela.conditional_formatting.add(prazo, red_rule)\n",
    "tabela.conditional_formatting.add(prazo, green_rule)\n",
    "\n",
    "\n",
    "planilha.save(marinette)\n",
    "planilha.close()"
   ]
  },
  {
   "cell_type": "code",
   "execution_count": 10,
   "metadata": {},
   "outputs": [
    {
     "name": "stdout",
     "output_type": "stream",
     "text": [
      "26/06/2024\n",
      "04/07/2024\n"
     ]
    }
   ],
   "source": [
    "navegador.switch_to.default_content()\n",
    "WebDriverWait(navegador,20).until(EC.frame_to_be_available_and_switch_to_it((By.ID, \"ifrArvore\")))\n",
    "docs = navegador.find_elements(By.XPATH, \"//div[@id = 'divArvore']//div//a[@class = 'infraArvoreNo']\")\n",
    "quantDocs = len(docs)\n",
    "for doc in range(quantDocs):\n",
    "    docTexto = docs[doc].text\n",
    "    if \"Guia\" in docTexto or \"GRERJ\" in docTexto:\n",
    "        docs[doc].click()\n",
    "        time.sleep(2)\n",
    "        \n",
    "        navegador.switch_to.default_content()            \n",
    "        WebDriverWait(navegador,20).until(EC.frame_to_be_available_and_switch_to_it((By.ID, \"ifrVisualizacao\")))\n",
    "        WebDriverWait(navegador,20).until(EC.frame_to_be_available_and_switch_to_it((By.ID, \"ifrArvoreHtml\")))\n",
    "        spans = navegador.find_elements(By.XPATH, '//span')\n",
    "        guia = \"\"\n",
    "        for span in spans:\n",
    "\n",
    "            \n",
    "            if \"BANCO DO BRASIL\" in span.get_attribute(\"innerHTML\").upper():\n",
    "                guia = \"Guia BB\" \n",
    "                break\n",
    "            if \"GRERJ\" in span.get_attribute(\"innerHTML\").upper():\n",
    "                guia = \"Guia GRERJ\"\n",
    "                break\n",
    "            \n",
    "        if guia == \"Guia BB\" or guia == \"Guia GRERJ\" :\n",
    "            for span in spans:\n",
    "                #Regex pra achar as datas\n",
    "                regex = re.match(\"^\\d{2}\\/\\d{2}\\/\\d{4}$\",span.get_attribute('innerHTML'))\n",
    "                if regex:\n",
    "                    validade = regex.group()\n",
    "                    print(validade)\n",
    "                    #return validade,guia\n",
    "        \n",
    "        navegador.switch_to.default_content()            \n",
    "        WebDriverWait(navegador,20).until(EC.frame_to_be_available_and_switch_to_it((By.ID, \"ifrArvore\")))\n",
    "        docs = navegador.find_elements(By.XPATH, \"//div[@id = 'divArvore']//div//a[@class = 'infraArvoreNo']\")   \n"
   ]
  },
  {
   "cell_type": "code",
   "execution_count": 18,
   "metadata": {},
   "outputs": [
    {
     "data": {
      "text/plain": [
       "'12/06/2024'"
      ]
     },
     "execution_count": 18,
     "metadata": {},
     "output_type": "execute_result"
    }
   ],
   "source": [
    "spans = navegador.find_elements(By.XPATH, '//span')\n",
    "##PRIMEIRO DESCOBRIR SE É BRASIL\n",
    "## LEMBRAR QUAL ATRIBUTO É DO SPAN\n",
    "for span in spans:\n",
    "    if \"BANCO DO BRASIL\" in span.get_attribute(\"innerHTML\").upper():\n",
    "        guia = \"Guia BB\" \n",
    "        break\n",
    "    \n",
    "if guia == \"Guia BB\":\n",
    "    for span in spans:\n",
    "        #Regex pra achar as datas\n",
    "        regex = re.match(\"^\\d{2}\\/\\d{2}\\/\\d{4}$\",span.get_attribute('innerHTML'))\n",
    "        if regex:\n",
    "            validade = regex.group()\n",
    "            break\n",
    "validade"
   ]
  },
  {
   "cell_type": "code",
   "execution_count": 6,
   "metadata": {},
   "outputs": [],
   "source": [
    "def encontrarValidade(navegador):\n",
    "    navegador.switch_to.default_content()\n",
    "    WebDriverWait(navegador,20).until(EC.frame_to_be_available_and_switch_to_it((By.ID, \"ifrArvore\")))\n",
    "    docs = navegador.find_elements(By.XPATH, \"//div[@id = 'divArvore']//div//a[@class = 'infraArvoreNo']\")\n",
    "    for doc in docs:\n",
    "        docTexto = doc.text\n",
    "        if \"Despacho de Encaminhamento de Processo\" in docTexto:\n",
    "            doc.click()\n",
    "            time.sleep(2)\n",
    "            \n",
    "            navegador.switch_to.default_content()            \n",
    "            WebDriverWait(navegador,20).until(EC.frame_to_be_available_and_switch_to_it((By.ID, \"ifrVisualizacao\")))\n",
    "            WebDriverWait(navegador,20).until(EC.frame_to_be_available_and_switch_to_it((By.ID, \"ifrArvoreHtml\")))\n",
    "            try:\n",
    "                tabelaGRE = navegador.find_element(By.XPATH, \"//table[@id = 'tabelaConsultaGRE']\")\n",
    "                validade = tabelaGRE.find_elements(By.XPATH, \".//td\")[7]\n",
    "                print(validade.text)\n",
    "                return validade\n",
    "                \n",
    "            except:\n",
    "                navegador.switch_to.default_content()\n",
    "                WebDriverWait(navegador,20).until(EC.frame_to_be_available_and_switch_to_it((By.ID, \"ifrArvore\")))\n",
    "\n",
    "                pass\n"
   ]
  },
  {
   "cell_type": "code",
   "execution_count": 4,
   "metadata": {},
   "outputs": [],
   "source": [
    "\n",
    "def encontrarProcessos(navegador,blocoSolicitado):\n",
    "    navegador.find_element(By.XPATH, \"//span[text() = 'Blocos']\").click()\n",
    "    WebDriverWait(navegador,20).until(EC.element_to_be_clickable((By.XPATH, \"//span[text() = 'Internos']\"))).click()\n",
    "    blocos = navegador.find_elements(By.XPATH, \"//tbody//tr\")[1:-1]\n",
    "\n",
    "    for bloco in blocos:    \n",
    "        nBloco = bloco.find_elements(By.XPATH,\".//td\")[1]\n",
    "        if nBloco.text == blocoSolicitado:\n",
    "            nBloco.find_element(By.XPATH, './/a').click()\n",
    "            break\n",
    "    processos = navegador.find_elements(By.XPATH, \"//tbody//tr\")[1:]\n",
    "\n",
    "    for i in range(1,len(processos)):\n",
    "        processo = navegador.find_elements(By.XPATH, \"//tbody//tr\")[i]\n",
    "        WebDriverWait(processo,20).until(EC.element_to_be_clickable(((By.XPATH, './/td[3]//a'))))\n",
    "        if processo.find_element(By.XPATH, './/td[3]//a').text == \"SEI-040009/000757/2024\":\n",
    "\n",
    "            processo.find_element(By.XPATH, './/td[3]//a').click()\n",
    "            break"
   ]
  },
  {
   "cell_type": "code",
   "execution_count": 7,
   "metadata": {},
   "outputs": [],
   "source": [
    "def encontrarFormaDePagamento(navegador):\n",
    "\n",
    "    navegador.switch_to.window(navegador.window_handles[1])\n",
    "    WebDriverWait(navegador,20).until(EC.frame_to_be_available_and_switch_to_it((By.ID, \"ifrArvore\")))\n",
    "    docs = navegador.find_elements(By.XPATH, \"//div[@id = 'divArvore']//div//a[@class = 'infraArvoreNo']\")\n",
    "\n",
    "    for doc in docs:\n",
    "        docTexto = doc.text\n",
    "        if \"Despacho sobre Autorização de Despesa\" in docTexto:\n",
    "            \n",
    "            \n",
    "            doc.click()\n",
    "            time.sleep(2)\n",
    "            \n",
    "            navegador.switch_to.default_content()            \n",
    "            WebDriverWait(navegador,20).until(EC.frame_to_be_available_and_switch_to_it((By.ID, \"ifrVisualizacao\")))\n",
    "            WebDriverWait(navegador,20).until(EC.frame_to_be_available_and_switch_to_it((By.ID, \"ifrArvoreHtml\")))\n",
    "            try:\n",
    "                beneficiario = navegador.find_element(By.XPATH, \"//p//strong[contains(text(), 'Beneficiário')]\" )\n",
    "                print(beneficiario.text)\n",
    "                if  \"CPF\" in beneficiario.text:\n",
    "                    formaPagamento = \"Depósito\"\n",
    "                    \n",
    "                    \n",
    "                \n",
    "                    return formaPagamento\n",
    "\n",
    "\n",
    "                \n",
    "\n",
    "                \n",
    "\n",
    "\n",
    "                formaPagamentoDespacho = navegador.find_element(By.XPATH, \"//p//strong[contains(text(), 'Forma de Pagamento')]\" )\n",
    "                print(formaPagamentoDespacho.text)\n",
    "                \n",
    "                formaPagamento = \"\"\n",
    "\n",
    "                if \"DEPÓSITO JUDICIAL\" in formaPagamentoDespacho.text:\n",
    "                    formaPagamento = \"Guia\"\n",
    "                if \"GUIA\" in formaPagamentoDespacho.text:\n",
    "                    formaPagamento = \"Guia\"\n",
    "\n",
    "\n",
    "\n",
    "                navegador.switch_to.default_content()\n",
    "\n",
    "                return formaPagamento\n",
    "            \n",
    "\n",
    "\n",
    "            except:\n",
    "                traceback.print_exc()\n"
   ]
  }
 ],
 "metadata": {
  "kernelspec": {
   "display_name": "Python 3",
   "language": "python",
   "name": "python3"
  },
  "language_info": {
   "codemirror_mode": {
    "name": "ipython",
    "version": 3
   },
   "file_extension": ".py",
   "mimetype": "text/x-python",
   "name": "python",
   "nbconvert_exporter": "python",
   "pygments_lexer": "ipython3",
   "version": "3.11.8"
  }
 },
 "nbformat": 4,
 "nbformat_minor": 2
}
